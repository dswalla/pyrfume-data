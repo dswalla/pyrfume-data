{
 "cells": [
  {
   "cell_type": "markdown",
   "id": "bf19bae3-aa06-424a-860b-f71141ae57e2",
   "metadata": {},
   "source": [
    "# Stimuli Probabilities"
   ]
  },
  {
   "cell_type": "markdown",
   "id": "4f98fd20-6a0d-4080-af79-913cc4962f85",
   "metadata": {},
   "source": [
    "In this notebook, the probability of a \"go\" (lick response) is calculated for the pairs of molecules or mixtures."
   ]
  },
  {
   "cell_type": "code",
   "execution_count": 3,
   "id": "c5fa233f-50e8-4719-ba96-db87448b7cf7",
   "metadata": {},
   "outputs": [],
   "source": [
    "import pandas as pd"
   ]
  },
  {
   "cell_type": "markdown",
   "id": "733e7cae-85fb-4c79-bf0a-c2cbb82b8b10",
   "metadata": {},
   "source": [
    "The behavioral data is loaded:"
   ]
  },
  {
   "cell_type": "code",
   "execution_count": 4,
   "id": "0d49c11d-ac03-47ba-a46e-011d9baf6e21",
   "metadata": {},
   "outputs": [],
   "source": [
    "behavior = pd.read_csv('behavior.csv')"
   ]
  },
  {
   "cell_type": "markdown",
   "id": "74cfa4cf-0ef7-472f-a532-6cd0d1423d69",
   "metadata": {},
   "source": [
    "A stimuli column is added for each pair of stimulus so that these can further be grouped and response mean can be calculated:"
   ]
  },
  {
   "cell_type": "code",
   "execution_count": 6,
   "id": "1c593b21-12d4-44a9-977d-f9a23484f242",
   "metadata": {},
   "outputs": [
    {
     "data": {
      "text/html": [
       "<div>\n",
       "<style scoped>\n",
       "    .dataframe tbody tr th:only-of-type {\n",
       "        vertical-align: middle;\n",
       "    }\n",
       "\n",
       "    .dataframe tbody tr th {\n",
       "        vertical-align: top;\n",
       "    }\n",
       "\n",
       "    .dataframe thead th {\n",
       "        text-align: right;\n",
       "    }\n",
       "</style>\n",
       "<table border=\"1\" class=\"dataframe\">\n",
       "  <thead>\n",
       "    <tr style=\"text-align: right;\">\n",
       "      <th></th>\n",
       "      <th>stimulus_1</th>\n",
       "      <th>stimulus_2</th>\n",
       "      <th>delay</th>\n",
       "      <th>mouse_id</th>\n",
       "      <th>response</th>\n",
       "      <th>stimuli</th>\n",
       "    </tr>\n",
       "  </thead>\n",
       "  <tbody>\n",
       "    <tr>\n",
       "      <th>0</th>\n",
       "      <td>10</td>\n",
       "      <td>44</td>\n",
       "      <td>0.0</td>\n",
       "      <td>100</td>\n",
       "      <td>0</td>\n",
       "      <td>(10, 44)</td>\n",
       "    </tr>\n",
       "    <tr>\n",
       "      <th>1</th>\n",
       "      <td>31</td>\n",
       "      <td>31</td>\n",
       "      <td>0.0</td>\n",
       "      <td>100</td>\n",
       "      <td>1</td>\n",
       "      <td>(31, 31)</td>\n",
       "    </tr>\n",
       "    <tr>\n",
       "      <th>2</th>\n",
       "      <td>139</td>\n",
       "      <td>139</td>\n",
       "      <td>0.0</td>\n",
       "      <td>100</td>\n",
       "      <td>1</td>\n",
       "      <td>(139, 139)</td>\n",
       "    </tr>\n",
       "    <tr>\n",
       "      <th>3</th>\n",
       "      <td>80</td>\n",
       "      <td>48</td>\n",
       "      <td>0.0</td>\n",
       "      <td>100</td>\n",
       "      <td>0</td>\n",
       "      <td>(48, 80)</td>\n",
       "    </tr>\n",
       "    <tr>\n",
       "      <th>4</th>\n",
       "      <td>96</td>\n",
       "      <td>123</td>\n",
       "      <td>0.0</td>\n",
       "      <td>100</td>\n",
       "      <td>1</td>\n",
       "      <td>(96, 123)</td>\n",
       "    </tr>\n",
       "  </tbody>\n",
       "</table>\n",
       "</div>"
      ],
      "text/plain": [
       "   stimulus_1  stimulus_2  delay  mouse_id  response     stimuli\n",
       "0          10          44    0.0       100         0    (10, 44)\n",
       "1          31          31    0.0       100         1    (31, 31)\n",
       "2         139         139    0.0       100         1  (139, 139)\n",
       "3          80          48    0.0       100         0    (48, 80)\n",
       "4          96         123    0.0       100         1   (96, 123)"
      ]
     },
     "execution_count": 6,
     "metadata": {},
     "output_type": "execute_result"
    }
   ],
   "source": [
    "behavior['stimuli'] = behavior[['stimulus_1', 'stimulus_2']].apply(lambda x: tuple(sorted((x['stimulus_1'], x['stimulus_2']))), axis=1)\n",
    "behavior.head()"
   ]
  },
  {
   "cell_type": "code",
   "execution_count": 15,
   "id": "1422135c-1012-47b3-98e8-477a0910f360",
   "metadata": {},
   "outputs": [
    {
     "data": {
      "text/html": [
       "<div>\n",
       "<style scoped>\n",
       "    .dataframe tbody tr th:only-of-type {\n",
       "        vertical-align: middle;\n",
       "    }\n",
       "\n",
       "    .dataframe tbody tr th {\n",
       "        vertical-align: top;\n",
       "    }\n",
       "\n",
       "    .dataframe thead th {\n",
       "        text-align: right;\n",
       "    }\n",
       "</style>\n",
       "<table border=\"1\" class=\"dataframe\">\n",
       "  <thead>\n",
       "    <tr style=\"text-align: right;\">\n",
       "      <th></th>\n",
       "      <th>response</th>\n",
       "    </tr>\n",
       "    <tr>\n",
       "      <th>stimuli</th>\n",
       "      <th></th>\n",
       "    </tr>\n",
       "  </thead>\n",
       "  <tbody>\n",
       "    <tr>\n",
       "      <th>(1, 1)</th>\n",
       "      <td>0.838710</td>\n",
       "    </tr>\n",
       "    <tr>\n",
       "      <th>(1, 2)</th>\n",
       "      <td>0.176471</td>\n",
       "    </tr>\n",
       "    <tr>\n",
       "      <th>(1, 5)</th>\n",
       "      <td>0.166667</td>\n",
       "    </tr>\n",
       "    <tr>\n",
       "      <th>(1, 6)</th>\n",
       "      <td>0.333333</td>\n",
       "    </tr>\n",
       "    <tr>\n",
       "      <th>(1, 7)</th>\n",
       "      <td>0.142857</td>\n",
       "    </tr>\n",
       "  </tbody>\n",
       "</table>\n",
       "</div>"
      ],
      "text/plain": [
       "         response\n",
       "stimuli          \n",
       "(1, 1)   0.838710\n",
       "(1, 2)   0.176471\n",
       "(1, 5)   0.166667\n",
       "(1, 6)   0.333333\n",
       "(1, 7)   0.142857"
      ]
     },
     "execution_count": 15,
     "metadata": {},
     "output_type": "execute_result"
    }
   ],
   "source": [
    "stimuli_prob = pd.DataFrame(behavior.groupby('stimuli')['response'].mean())\n",
    "stimuli_prob.to_csv('stimuli_probabilities.csv')\n",
    "stimuli_prob.head()"
   ]
  }
 ],
 "metadata": {
  "kernelspec": {
   "display_name": "Python 3 (ipykernel)",
   "language": "python",
   "name": "python3"
  },
  "language_info": {
   "codemirror_mode": {
    "name": "ipython",
    "version": 3
   },
   "file_extension": ".py",
   "mimetype": "text/x-python",
   "name": "python",
   "nbconvert_exporter": "python",
   "pygments_lexer": "ipython3",
   "version": "3.10.4"
  }
 },
 "nbformat": 4,
 "nbformat_minor": 5
}
